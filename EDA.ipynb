{
  "nbformat": 4,
  "nbformat_minor": 0,
  "metadata": {
    "anaconda-cloud": {},
    "kernelspec": {
      "display_name": "Python 3",
      "language": "python",
      "name": "python3"
    },
    "language_info": {
      "codemirror_mode": {
        "name": "ipython",
        "version": 3
      },
      "file_extension": ".py",
      "mimetype": "text/x-python",
      "name": "python",
      "nbconvert_exporter": "python",
      "pygments_lexer": "ipython3",
      "version": "3.7.3"
    },
    "colab": {
      "name": "EDA.ipynb",
      "provenance": []
    }
  },
  "cells": [
    {
      "cell_type": "code",
      "metadata": {
        "id": "fwSkKVNlVo58"
      },
      "source": [
        "import gdal\n",
        "from gdalconst import * "
      ],
      "execution_count": null,
      "outputs": []
    },
    {
      "cell_type": "code",
      "metadata": {
        "id": "DpJQSba7Vo6O"
      },
      "source": [
        "import pandas as pd\n",
        "submission = pd.read_csv('../input/sample_submission.csv')\n",
        "grid_size = pd.read_csv('../input/grid_sizes.csv')\n",
        "train = pd.read_csv('../input/train_wkt_v4.csv')"
      ],
      "execution_count": null,
      "outputs": []
    },
    {
      "cell_type": "code",
      "metadata": {
        "id": "V91KrSf9Vo6X"
      },
      "source": [
        "# submission size: 429x10\n",
        "# grid size: 450, total # of images\n",
        "# train: 25, so there are 4 overlaps"
      ],
      "execution_count": null,
      "outputs": []
    },
    {
      "cell_type": "code",
      "metadata": {
        "scrolled": true,
        "id": "w3NpXkrbVo6i"
      },
      "source": [
        "submission.head(10)"
      ],
      "execution_count": null,
      "outputs": []
    },
    {
      "cell_type": "code",
      "metadata": {
        "id": "wEAQDvO-Vo6t"
      },
      "source": [
        "submission.tail(4)"
      ],
      "execution_count": null,
      "outputs": []
    },
    {
      "cell_type": "code",
      "metadata": {
        "id": "wzEt2urCVo63"
      },
      "source": [
        "submission.count()"
      ],
      "execution_count": null,
      "outputs": []
    },
    {
      "cell_type": "code",
      "metadata": {
        "id": "Qxw2FMjuVo7B"
      },
      "source": [
        "grid_size.head(4)"
      ],
      "execution_count": null,
      "outputs": []
    },
    {
      "cell_type": "code",
      "metadata": {
        "id": "YW37XQwJVo7L"
      },
      "source": [
        "grid_size.tail(4)"
      ],
      "execution_count": null,
      "outputs": []
    },
    {
      "cell_type": "code",
      "metadata": {
        "id": "4fC5fsRaVo7R"
      },
      "source": [
        "min(grid_size.Xmax), max(grid_size.Xmax)"
      ],
      "execution_count": null,
      "outputs": []
    },
    {
      "cell_type": "code",
      "metadata": {
        "id": "zv_wodeNVo7Y"
      },
      "source": [
        "min(grid_size.Ymin), max(grid_size.Ymin)"
      ],
      "execution_count": null,
      "outputs": []
    },
    {
      "cell_type": "code",
      "metadata": {
        "id": "pVJctsPQVo7d"
      },
      "source": [
        "train.head(10)"
      ],
      "execution_count": null,
      "outputs": []
    },
    {
      "cell_type": "code",
      "metadata": {
        "id": "v4qZSs6fVo7n"
      },
      "source": [
        "train.tail(10)"
      ],
      "execution_count": null,
      "outputs": []
    },
    {
      "cell_type": "code",
      "metadata": {
        "id": "OXEYk9B6Vo7w"
      },
      "source": [
        "plg = train.MultipolygonWKT"
      ],
      "execution_count": null,
      "outputs": []
    },
    {
      "cell_type": "code",
      "metadata": {
        "id": "a-Azdh9tVo72"
      },
      "source": [
        "plg[3];"
      ],
      "execution_count": null,
      "outputs": []
    },
    {
      "cell_type": "code",
      "metadata": {
        "id": "MbXfguv8Vo77"
      },
      "source": [
        "import gdal\n",
        "from gdalconst import * \n",
        "\n",
        "img_filename_16bandA = '../input/sixteen_band/6100_1_3_A.tif'\n",
        "img_filename_16bandM = '../input/sixteen_band/6100_1_3_M.tif'\n",
        "img_filename_16bandP = '../input/sixteen_band/6100_1_3_P.tif' \n",
        "\n",
        "datasetA = gdal.Open(img_filename_16bandA, GA_ReadOnly )\n",
        "datasetM = gdal.Open(img_filename_16bandM, GA_ReadOnly )\n",
        "datasetP = gdal.Open(img_filename_16bandP, GA_ReadOnly ) \n",
        "\n",
        "print('Size is ',datasetA.RasterXSize,'x',datasetA.RasterYSize, \\\n",
        " 'x',datasetA.RasterCount)\n",
        "print('Size is ',datasetM.RasterXSize,'x',datasetM.RasterYSize, \\\n",
        " 'x',datasetM.RasterCount)\n",
        "print('Size is ',datasetP.RasterXSize,'x',datasetP.RasterYSize, \\\n",
        " 'x',datasetP.RasterCount)"
      ],
      "execution_count": null,
      "outputs": []
    },
    {
      "cell_type": "code",
      "metadata": {
        "id": "9mvvIB-JVo8A"
      },
      "source": [
        "band1 = datasetA.GetRasterBand(1)\n",
        "band2 = datasetM.GetRasterBand(1)\n",
        "band3 = datasetP.GetRasterBand(1)\n",
        "\n",
        "band1Array = band1.ReadAsArray()\n",
        "band2Array = band2.ReadAsArray()\n",
        "band3Array = band3.ReadAsArray()"
      ],
      "execution_count": null,
      "outputs": []
    },
    {
      "cell_type": "code",
      "metadata": {
        "id": "t7x4L0gNVo8M"
      },
      "source": [
        "band1Array.shape, band3Array.shape, band3Array.shape"
      ],
      "execution_count": null,
      "outputs": []
    },
    {
      "cell_type": "code",
      "metadata": {
        "id": "9NMM9Iy1Vo8T"
      },
      "source": [
        "import matplotlib.pyplot as plt\n",
        "%matplotlib inline\n",
        "\n",
        "from pylab import rcParams\n",
        "rcParams['figure.figsize'] = 10, 10"
      ],
      "execution_count": null,
      "outputs": []
    },
    {
      "cell_type": "code",
      "metadata": {
        "id": "Bxn2WaUYVo8e"
      },
      "source": [
        "imgplot1 = plt.imshow(band1Array)"
      ],
      "execution_count": null,
      "outputs": []
    },
    {
      "cell_type": "code",
      "metadata": {
        "id": "7vseEeqzVo8l"
      },
      "source": [
        "train.shape"
      ],
      "execution_count": null,
      "outputs": []
    },
    {
      "cell_type": "code",
      "metadata": {
        "id": "szDBvmgnVo8s"
      },
      "source": [
        "train_reduced = train[train.MultipolygonWKT != 'MULTIPOLYGON EMPTY']\n",
        "train_reduced[:4]"
      ],
      "execution_count": null,
      "outputs": []
    },
    {
      "cell_type": "code",
      "metadata": {
        "id": "qKPFFt0WVo8x"
      },
      "source": [
        "train_reduced.iloc[3].MultipolygonWKT;"
      ],
      "execution_count": null,
      "outputs": []
    },
    {
      "cell_type": "code",
      "metadata": {
        "id": "6i0xVBJ_Vo82"
      },
      "source": [
        "imagelist = train.ImageId.unique()\n",
        "print(imagelist)\n",
        "print(len(imagelist))"
      ],
      "execution_count": null,
      "outputs": []
    },
    {
      "cell_type": "code",
      "metadata": {
        "id": "P4Gl7_TGVo8-"
      },
      "source": [
        "import os.path"
      ],
      "execution_count": null,
      "outputs": []
    },
    {
      "cell_type": "code",
      "metadata": {
        "id": "ddUcw-QsVo9E"
      },
      "source": [
        "# path = r'input/three_band'"
      ],
      "execution_count": null,
      "outputs": []
    },
    {
      "cell_type": "code",
      "metadata": {
        "id": "JeHmb8QOVo9M"
      },
      "source": [
        "# num_files = len([f for f in os.listdir(path)\n",
        "#                 if os.path.isfile(os.path.join())])"
      ],
      "execution_count": null,
      "outputs": []
    },
    {
      "cell_type": "code",
      "metadata": {
        "id": "OgoYe4VaVo9U"
      },
      "source": [
        "sublist = submission.ImageId.unique()\n",
        "print(sublist[:10])\n",
        "print(len(sublist))"
      ],
      "execution_count": null,
      "outputs": []
    },
    {
      "cell_type": "code",
      "metadata": {
        "id": "rPaCmYJNVo9i"
      },
      "source": [
        "overlap = []\n",
        "for a in imagelist:\n",
        "    if a in sublist:\n",
        "        print(a)\n",
        "        overlap.append(a)"
      ],
      "execution_count": null,
      "outputs": []
    },
    {
      "cell_type": "code",
      "metadata": {
        "id": "-C9ES_u4Vo9p"
      },
      "source": [
        "overlap_data = train_reduced[train_reduced.ImageId.isin(overlap)]\n",
        "overlap_data"
      ],
      "execution_count": null,
      "outputs": []
    },
    {
      "cell_type": "code",
      "metadata": {
        "id": "V95SjLOXVo91"
      },
      "source": [
        "overlap_data.count()"
      ],
      "execution_count": null,
      "outputs": []
    },
    {
      "cell_type": "markdown",
      "metadata": {
        "id": "xbjnkCesVo97"
      },
      "source": [
        "# Evaluation"
      ]
    },
    {
      "cell_type": "code",
      "metadata": {
        "id": "o12PzhDNVo98"
      },
      "source": [
        "from osgeo import ogr\n",
        "\n",
        "wkt1 = overlap_data.MultipolygonWKT.iloc[0]\n",
        "wkt2 = overlap_data.MultipolygonWKT.iloc[2]\n",
        "\n",
        "poly1 = ogr.CreateGeometryFromWkt(wkt1);\n",
        "poly2 = ogr.CreateGeometryFromWkt(wkt2);\n",
        "\n",
        "union = poly1.Union(poly2);\n",
        "\n",
        "# print(poly1);\n",
        "# print (poly2);\n",
        "# print (union.ExportToWkt());"
      ],
      "execution_count": null,
      "outputs": []
    },
    {
      "cell_type": "code",
      "metadata": {
        "id": "y_9_3isWVo-E"
      },
      "source": [
        "intersection = poly1.Intersection(poly2)"
      ],
      "execution_count": null,
      "outputs": []
    },
    {
      "cell_type": "code",
      "metadata": {
        "id": "dRtej1NjVo-J"
      },
      "source": [
        "print(intersection.Area())"
      ],
      "execution_count": null,
      "outputs": []
    },
    {
      "cell_type": "code",
      "metadata": {
        "id": "OE8x_8LbVo-P"
      },
      "source": [
        "print(union.Area())"
      ],
      "execution_count": null,
      "outputs": []
    },
    {
      "cell_type": "code",
      "metadata": {
        "id": "Hxhrax0IVo-V"
      },
      "source": [
        "# Jaccard index\n",
        "print(intersection.Area()/union.Area())"
      ],
      "execution_count": null,
      "outputs": []
    },
    {
      "cell_type": "code",
      "metadata": {
        "id": "-W1ErIOMVo-b"
      },
      "source": [
        "img_train = '../classtype/6040_2_2.tif'"
      ],
      "execution_count": null,
      "outputs": []
    },
    {
      "cell_type": "code",
      "metadata": {
        "id": "XSSXVrpxVo-j"
      },
      "source": [
        "dataset_train = gdal.Open(img_train, GA_ReadOnly)\n",
        "band = dataset_train.GetRasterBand(1)"
      ],
      "execution_count": null,
      "outputs": []
    },
    {
      "cell_type": "code",
      "metadata": {
        "id": "rZ08HJJGVo-o"
      },
      "source": [
        "train_Array = band.ReadAsArray()\n",
        "implot = plt.imshow(train_Array)\n",
        "plt.show()"
      ],
      "execution_count": null,
      "outputs": []
    },
    {
      "cell_type": "code",
      "metadata": {
        "id": "LU5V0FOhVo-w"
      },
      "source": [
        "train_Array[0][4:100]"
      ],
      "execution_count": null,
      "outputs": []
    },
    {
      "cell_type": "markdown",
      "metadata": {
        "collapsed": true,
        "id": "8CX4qhwjVo-2"
      },
      "source": [
        "# Vectorize Results"
      ]
    },
    {
      "cell_type": "code",
      "metadata": {
        "id": "sfrpZxUrVo-4"
      },
      "source": [
        "import numpy as np\n",
        "import rasterio.features\n",
        "from affine import Affine\n",
        "from shapely.geometry import shape"
      ],
      "execution_count": null,
      "outputs": []
    },
    {
      "cell_type": "code",
      "metadata": {
        "id": "hDmtXrmwVo--"
      },
      "source": [
        "ar = np.tri(5,dtype='f')\n",
        "print(ar)"
      ],
      "execution_count": null,
      "outputs": []
    },
    {
      "cell_type": "code",
      "metadata": {
        "id": "soKb7vCxVo_F"
      },
      "source": [
        "for shp, val in rasterio.features.shapes(ar, transform=Affine(1,0,0,0,-1,5)):\n",
        "    print ('%s: %s' %(val, shape(shp)))"
      ],
      "execution_count": null,
      "outputs": []
    },
    {
      "cell_type": "code",
      "metadata": {
        "id": "zoFlsHUzVo_L"
      },
      "source": [
        ""
      ],
      "execution_count": null,
      "outputs": []
    }
  ]
}